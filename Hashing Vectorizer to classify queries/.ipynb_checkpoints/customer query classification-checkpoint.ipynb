{
 "cells": [
  {
   "cell_type": "markdown",
   "metadata": {},
   "source": [
    "## Classifying Customer Queries "
   ]
  },
  {
   "cell_type": "code",
   "execution_count": 1,
   "metadata": {},
   "outputs": [],
   "source": [
    "#importing libs\n",
    "import sklearn\n",
    "from sklearn.feature_extraction.text import CountVectorizer, HashingVectorizer\n",
    "from sklearn.decomposition import PCA\n",
    "from sklearn.svm import LinearSVC\n",
    "\n",
    "import numpy as np\n",
    "import pandas as pd"
   ]
  },
  {
   "cell_type": "code",
   "execution_count": 2,
   "metadata": {},
   "outputs": [
    {
     "data": {
      "text/html": [
       "<div>\n",
       "<style scoped>\n",
       "    .dataframe tbody tr th:only-of-type {\n",
       "        vertical-align: middle;\n",
       "    }\n",
       "\n",
       "    .dataframe tbody tr th {\n",
       "        vertical-align: top;\n",
       "    }\n",
       "\n",
       "    .dataframe thead th {\n",
       "        text-align: right;\n",
       "    }\n",
       "</style>\n",
       "<table border=\"1\" class=\"dataframe\">\n",
       "  <thead>\n",
       "    <tr style=\"text-align: right;\">\n",
       "      <th></th>\n",
       "      <th>Input Query</th>\n",
       "      <th>Category</th>\n",
       "    </tr>\n",
       "  </thead>\n",
       "  <tbody>\n",
       "    <tr>\n",
       "      <th>0</th>\n",
       "      <td>be or do</td>\n",
       "      <td>0</td>\n",
       "    </tr>\n",
       "    <tr>\n",
       "      <th>1</th>\n",
       "      <td>comparatives and superlatives</td>\n",
       "      <td>0</td>\n",
       "    </tr>\n",
       "    <tr>\n",
       "      <th>2</th>\n",
       "      <td>how to teach overcoming obstacles concept wit...</td>\n",
       "      <td>1</td>\n",
       "    </tr>\n",
       "    <tr>\n",
       "      <th>3</th>\n",
       "      <td>Present perfect simple or continuous</td>\n",
       "      <td>0</td>\n",
       "    </tr>\n",
       "    <tr>\n",
       "      <th>4</th>\n",
       "      <td>-</td>\n",
       "      <td>0</td>\n",
       "    </tr>\n",
       "  </tbody>\n",
       "</table>\n",
       "</div>"
      ],
      "text/plain": [
       "                                         Input Query  Category\n",
       "0                                           be or do         0\n",
       "1                      comparatives and superlatives         0\n",
       "2   how to teach overcoming obstacles concept wit...         1\n",
       "3               Present perfect simple or continuous         0\n",
       "4                                                  -         0"
      ]
     },
     "execution_count": 2,
     "metadata": {},
     "output_type": "execute_result"
    }
   ],
   "source": [
    "#data cleaning\n",
    "data_url=(\"https://raw.githubusercontent.com/busyML/Customer-Queries-Classification-NLP/master/NLP%20INSTANTEACH%20ML%20-%20Sheet1.csv\")\n",
    "data=pd.read_csv(data_url)\n",
    "data.head()"
   ]
  },
  {
   "cell_type": "markdown",
   "metadata": {},
   "source": [
    "0 - Low level query <br>\n",
    "1 - Urgent query (needs immediate attention)"
   ]
  },
  {
   "cell_type": "code",
   "execution_count": 12,
   "metadata": {},
   "outputs": [
    {
     "data": {
      "text/plain": [
       "(1084, 2)"
      ]
     },
     "execution_count": 12,
     "metadata": {},
     "output_type": "execute_result"
    }
   ],
   "source": [
    "#shuffling dataset to curb any unnecessary biases\n",
    "data = data.sample(frac = 1, random_state=11)\n",
    "data.head()\n",
    "data.shape"
   ]
  },
  {
   "cell_type": "markdown",
   "metadata": {},
   "source": [
    "## Vectorization\n",
    "Method 1. Counting word frequency - Bag of words"
   ]
  },
  {
   "cell_type": "code",
   "execution_count": 10,
   "metadata": {},
   "outputs": [],
   "source": [
    "count_vec = CountVectorizer()\n",
    "count_example = (count_vec.fit_transform(data[\"Input Query\"].values.astype('U'))).toarray()\n",
    "count_example = pd.DataFrame(count_example)\n",
    "vocab_list = list(count_vec.get_feature_names())\n",
    "\n",
    "i=0\n",
    "for i in range(len(count_example.columns)):\n",
    "    count_example.rename(columns={i: vocab_list[i]}, inplace=True)\n"
   ]
  },
  {
   "cell_type": "code",
   "execution_count": 8,
   "metadata": {},
   "outputs": [],
   "source": [
    "count_example.to_csv(\"countexample.csv\")"
   ]
  },
  {
   "cell_type": "markdown",
   "metadata": {},
   "source": [
    "Method 2: Hashing Vectorization"
   ]
  },
  {
   "cell_type": "code",
   "execution_count": 17,
   "metadata": {},
   "outputs": [
    {
     "data": {
      "text/html": [
       "<div>\n",
       "<style scoped>\n",
       "    .dataframe tbody tr th:only-of-type {\n",
       "        vertical-align: middle;\n",
       "    }\n",
       "\n",
       "    .dataframe tbody tr th {\n",
       "        vertical-align: top;\n",
       "    }\n",
       "\n",
       "    .dataframe thead th {\n",
       "        text-align: right;\n",
       "    }\n",
       "</style>\n",
       "<table border=\"1\" class=\"dataframe\">\n",
       "  <thead>\n",
       "    <tr style=\"text-align: right;\">\n",
       "      <th></th>\n",
       "      <th>0</th>\n",
       "      <th>1</th>\n",
       "      <th>2</th>\n",
       "      <th>3</th>\n",
       "      <th>4</th>\n",
       "      <th>5</th>\n",
       "      <th>6</th>\n",
       "      <th>7</th>\n",
       "      <th>8</th>\n",
       "      <th>9</th>\n",
       "      <th>...</th>\n",
       "      <th>1014</th>\n",
       "      <th>1015</th>\n",
       "      <th>1016</th>\n",
       "      <th>1017</th>\n",
       "      <th>1018</th>\n",
       "      <th>1019</th>\n",
       "      <th>1020</th>\n",
       "      <th>1021</th>\n",
       "      <th>1022</th>\n",
       "      <th>1023</th>\n",
       "    </tr>\n",
       "  </thead>\n",
       "  <tbody>\n",
       "    <tr>\n",
       "      <th>0</th>\n",
       "      <td>0.0</td>\n",
       "      <td>0.0</td>\n",
       "      <td>0.0</td>\n",
       "      <td>0.0</td>\n",
       "      <td>0.0</td>\n",
       "      <td>0.0</td>\n",
       "      <td>0.0</td>\n",
       "      <td>0.0</td>\n",
       "      <td>0.0</td>\n",
       "      <td>-0.027778</td>\n",
       "      <td>...</td>\n",
       "      <td>0.0</td>\n",
       "      <td>0.0</td>\n",
       "      <td>0.0</td>\n",
       "      <td>0.0</td>\n",
       "      <td>0.0</td>\n",
       "      <td>-0.027778</td>\n",
       "      <td>0.0</td>\n",
       "      <td>0.0</td>\n",
       "      <td>0.0</td>\n",
       "      <td>0.0</td>\n",
       "    </tr>\n",
       "    <tr>\n",
       "      <th>1</th>\n",
       "      <td>0.0</td>\n",
       "      <td>0.0</td>\n",
       "      <td>0.0</td>\n",
       "      <td>0.0</td>\n",
       "      <td>0.0</td>\n",
       "      <td>0.0</td>\n",
       "      <td>0.0</td>\n",
       "      <td>0.0</td>\n",
       "      <td>0.0</td>\n",
       "      <td>0.000000</td>\n",
       "      <td>...</td>\n",
       "      <td>0.0</td>\n",
       "      <td>0.0</td>\n",
       "      <td>0.0</td>\n",
       "      <td>0.0</td>\n",
       "      <td>0.0</td>\n",
       "      <td>0.000000</td>\n",
       "      <td>0.0</td>\n",
       "      <td>0.0</td>\n",
       "      <td>0.0</td>\n",
       "      <td>0.0</td>\n",
       "    </tr>\n",
       "    <tr>\n",
       "      <th>2</th>\n",
       "      <td>0.0</td>\n",
       "      <td>0.0</td>\n",
       "      <td>0.0</td>\n",
       "      <td>0.0</td>\n",
       "      <td>0.0</td>\n",
       "      <td>0.0</td>\n",
       "      <td>0.0</td>\n",
       "      <td>0.0</td>\n",
       "      <td>0.0</td>\n",
       "      <td>0.000000</td>\n",
       "      <td>...</td>\n",
       "      <td>0.0</td>\n",
       "      <td>0.0</td>\n",
       "      <td>0.0</td>\n",
       "      <td>0.0</td>\n",
       "      <td>0.0</td>\n",
       "      <td>0.000000</td>\n",
       "      <td>0.0</td>\n",
       "      <td>0.0</td>\n",
       "      <td>0.0</td>\n",
       "      <td>0.0</td>\n",
       "    </tr>\n",
       "    <tr>\n",
       "      <th>3</th>\n",
       "      <td>0.0</td>\n",
       "      <td>0.0</td>\n",
       "      <td>0.0</td>\n",
       "      <td>0.0</td>\n",
       "      <td>0.0</td>\n",
       "      <td>0.0</td>\n",
       "      <td>0.0</td>\n",
       "      <td>0.0</td>\n",
       "      <td>0.0</td>\n",
       "      <td>0.000000</td>\n",
       "      <td>...</td>\n",
       "      <td>0.0</td>\n",
       "      <td>0.0</td>\n",
       "      <td>0.0</td>\n",
       "      <td>0.0</td>\n",
       "      <td>0.0</td>\n",
       "      <td>0.000000</td>\n",
       "      <td>0.0</td>\n",
       "      <td>0.0</td>\n",
       "      <td>0.0</td>\n",
       "      <td>0.0</td>\n",
       "    </tr>\n",
       "    <tr>\n",
       "      <th>4</th>\n",
       "      <td>0.0</td>\n",
       "      <td>0.0</td>\n",
       "      <td>0.0</td>\n",
       "      <td>0.0</td>\n",
       "      <td>0.0</td>\n",
       "      <td>0.0</td>\n",
       "      <td>0.0</td>\n",
       "      <td>0.0</td>\n",
       "      <td>0.0</td>\n",
       "      <td>0.000000</td>\n",
       "      <td>...</td>\n",
       "      <td>0.0</td>\n",
       "      <td>0.0</td>\n",
       "      <td>0.0</td>\n",
       "      <td>0.0</td>\n",
       "      <td>0.0</td>\n",
       "      <td>0.000000</td>\n",
       "      <td>0.0</td>\n",
       "      <td>0.0</td>\n",
       "      <td>0.0</td>\n",
       "      <td>0.0</td>\n",
       "    </tr>\n",
       "  </tbody>\n",
       "</table>\n",
       "<p>5 rows × 1024 columns</p>\n",
       "</div>"
      ],
      "text/plain": [
       "   0     1     2     3     4     5     6     7     8         9     ...   1014  \\\n",
       "0   0.0   0.0   0.0   0.0   0.0   0.0   0.0   0.0   0.0 -0.027778  ...    0.0   \n",
       "1   0.0   0.0   0.0   0.0   0.0   0.0   0.0   0.0   0.0  0.000000  ...    0.0   \n",
       "2   0.0   0.0   0.0   0.0   0.0   0.0   0.0   0.0   0.0  0.000000  ...    0.0   \n",
       "3   0.0   0.0   0.0   0.0   0.0   0.0   0.0   0.0   0.0  0.000000  ...    0.0   \n",
       "4   0.0   0.0   0.0   0.0   0.0   0.0   0.0   0.0   0.0  0.000000  ...    0.0   \n",
       "\n",
       "   1015  1016  1017  1018      1019  1020  1021  1022  1023  \n",
       "0   0.0   0.0   0.0   0.0 -0.027778   0.0   0.0   0.0   0.0  \n",
       "1   0.0   0.0   0.0   0.0  0.000000   0.0   0.0   0.0   0.0  \n",
       "2   0.0   0.0   0.0   0.0  0.000000   0.0   0.0   0.0   0.0  \n",
       "3   0.0   0.0   0.0   0.0  0.000000   0.0   0.0   0.0   0.0  \n",
       "4   0.0   0.0   0.0   0.0  0.000000   0.0   0.0   0.0   0.0  \n",
       "\n",
       "[5 rows x 1024 columns]"
      ]
     },
     "execution_count": 17,
     "metadata": {},
     "output_type": "execute_result"
    }
   ],
   "source": [
    "vec = HashingVectorizer(n_features = 2**10, norm=\"l1\")\n",
    "vec_counts = (vec.fit_transform(data[\"Input Query\"].values.astype('U'))).toarray()\n",
    "train = pd.DataFrame(vec_counts)\n",
    "train.head()"
   ]
  },
  {
   "cell_type": "code",
   "execution_count": 19,
   "metadata": {},
   "outputs": [
    {
     "data": {
      "text/plain": [
       "(1084, 1024)"
      ]
     },
     "execution_count": 19,
     "metadata": {},
     "output_type": "execute_result"
    }
   ],
   "source": [
    "vec_counts.shape"
   ]
  },
  {
   "cell_type": "code",
   "execution_count": 21,
   "metadata": {},
   "outputs": [
    {
     "name": "stdout",
     "output_type": "stream",
     "text": [
      "number of columns before compression: 1024 \n",
      " number of columns after compression: 371\n"
     ]
    },
    {
     "data": {
      "text/html": [
       "<div>\n",
       "<style scoped>\n",
       "    .dataframe tbody tr th:only-of-type {\n",
       "        vertical-align: middle;\n",
       "    }\n",
       "\n",
       "    .dataframe tbody tr th {\n",
       "        vertical-align: top;\n",
       "    }\n",
       "\n",
       "    .dataframe thead th {\n",
       "        text-align: right;\n",
       "    }\n",
       "</style>\n",
       "<table border=\"1\" class=\"dataframe\">\n",
       "  <thead>\n",
       "    <tr style=\"text-align: right;\">\n",
       "      <th></th>\n",
       "      <th>0</th>\n",
       "      <th>1</th>\n",
       "      <th>2</th>\n",
       "      <th>3</th>\n",
       "      <th>4</th>\n",
       "      <th>5</th>\n",
       "      <th>6</th>\n",
       "      <th>7</th>\n",
       "      <th>8</th>\n",
       "      <th>9</th>\n",
       "      <th>...</th>\n",
       "      <th>361</th>\n",
       "      <th>362</th>\n",
       "      <th>363</th>\n",
       "      <th>364</th>\n",
       "      <th>365</th>\n",
       "      <th>366</th>\n",
       "      <th>367</th>\n",
       "      <th>368</th>\n",
       "      <th>369</th>\n",
       "      <th>370</th>\n",
       "    </tr>\n",
       "  </thead>\n",
       "  <tbody>\n",
       "    <tr>\n",
       "      <th>0</th>\n",
       "      <td>-0.018548</td>\n",
       "      <td>-0.009943</td>\n",
       "      <td>-0.041752</td>\n",
       "      <td>-0.009834</td>\n",
       "      <td>0.038122</td>\n",
       "      <td>-0.020786</td>\n",
       "      <td>0.032670</td>\n",
       "      <td>-0.002762</td>\n",
       "      <td>-0.022673</td>\n",
       "      <td>0.002803</td>\n",
       "      <td>...</td>\n",
       "      <td>0.000165</td>\n",
       "      <td>0.002007</td>\n",
       "      <td>0.000524</td>\n",
       "      <td>0.005563</td>\n",
       "      <td>0.005353</td>\n",
       "      <td>0.003982</td>\n",
       "      <td>-0.002125</td>\n",
       "      <td>0.005118</td>\n",
       "      <td>-0.002865</td>\n",
       "      <td>-0.002994</td>\n",
       "    </tr>\n",
       "    <tr>\n",
       "      <th>1</th>\n",
       "      <td>0.144641</td>\n",
       "      <td>-0.030201</td>\n",
       "      <td>-0.024569</td>\n",
       "      <td>-0.010797</td>\n",
       "      <td>0.046357</td>\n",
       "      <td>0.016590</td>\n",
       "      <td>0.104466</td>\n",
       "      <td>-0.018984</td>\n",
       "      <td>-0.016666</td>\n",
       "      <td>0.089007</td>\n",
       "      <td>...</td>\n",
       "      <td>0.000126</td>\n",
       "      <td>-0.004897</td>\n",
       "      <td>-0.001377</td>\n",
       "      <td>-0.005838</td>\n",
       "      <td>-0.000881</td>\n",
       "      <td>0.003819</td>\n",
       "      <td>0.004190</td>\n",
       "      <td>0.005479</td>\n",
       "      <td>-0.001715</td>\n",
       "      <td>-0.003087</td>\n",
       "    </tr>\n",
       "    <tr>\n",
       "      <th>2</th>\n",
       "      <td>-0.036206</td>\n",
       "      <td>-0.031946</td>\n",
       "      <td>0.059021</td>\n",
       "      <td>-0.153236</td>\n",
       "      <td>0.376132</td>\n",
       "      <td>0.819627</td>\n",
       "      <td>-0.134380</td>\n",
       "      <td>-0.002157</td>\n",
       "      <td>0.215932</td>\n",
       "      <td>-0.243564</td>\n",
       "      <td>...</td>\n",
       "      <td>0.000546</td>\n",
       "      <td>-0.000513</td>\n",
       "      <td>-0.000047</td>\n",
       "      <td>0.000207</td>\n",
       "      <td>-0.000240</td>\n",
       "      <td>-0.001010</td>\n",
       "      <td>0.001648</td>\n",
       "      <td>-0.000380</td>\n",
       "      <td>0.000367</td>\n",
       "      <td>0.001204</td>\n",
       "    </tr>\n",
       "    <tr>\n",
       "      <th>3</th>\n",
       "      <td>-0.017365</td>\n",
       "      <td>-0.006946</td>\n",
       "      <td>-0.032016</td>\n",
       "      <td>-0.010879</td>\n",
       "      <td>0.022846</td>\n",
       "      <td>-0.024185</td>\n",
       "      <td>-0.008863</td>\n",
       "      <td>0.004951</td>\n",
       "      <td>-0.010268</td>\n",
       "      <td>-0.015265</td>\n",
       "      <td>...</td>\n",
       "      <td>0.000110</td>\n",
       "      <td>0.000158</td>\n",
       "      <td>0.000085</td>\n",
       "      <td>0.000037</td>\n",
       "      <td>-0.000088</td>\n",
       "      <td>0.000028</td>\n",
       "      <td>0.000011</td>\n",
       "      <td>-0.000030</td>\n",
       "      <td>-0.000060</td>\n",
       "      <td>0.000081</td>\n",
       "    </tr>\n",
       "    <tr>\n",
       "      <th>4</th>\n",
       "      <td>0.311567</td>\n",
       "      <td>-0.059424</td>\n",
       "      <td>-0.079415</td>\n",
       "      <td>0.240529</td>\n",
       "      <td>-0.139072</td>\n",
       "      <td>0.096719</td>\n",
       "      <td>-0.001947</td>\n",
       "      <td>0.005382</td>\n",
       "      <td>-0.000205</td>\n",
       "      <td>0.014510</td>\n",
       "      <td>...</td>\n",
       "      <td>-0.002816</td>\n",
       "      <td>-0.003351</td>\n",
       "      <td>0.000699</td>\n",
       "      <td>0.001242</td>\n",
       "      <td>0.000354</td>\n",
       "      <td>0.000023</td>\n",
       "      <td>0.001958</td>\n",
       "      <td>-0.001988</td>\n",
       "      <td>-0.002830</td>\n",
       "      <td>-0.000235</td>\n",
       "    </tr>\n",
       "  </tbody>\n",
       "</table>\n",
       "<p>5 rows × 371 columns</p>\n",
       "</div>"
      ],
      "text/plain": [
       "        0         1         2         3         4         5         6    \\\n",
       "0 -0.018548 -0.009943 -0.041752 -0.009834  0.038122 -0.020786  0.032670   \n",
       "1  0.144641 -0.030201 -0.024569 -0.010797  0.046357  0.016590  0.104466   \n",
       "2 -0.036206 -0.031946  0.059021 -0.153236  0.376132  0.819627 -0.134380   \n",
       "3 -0.017365 -0.006946 -0.032016 -0.010879  0.022846 -0.024185 -0.008863   \n",
       "4  0.311567 -0.059424 -0.079415  0.240529 -0.139072  0.096719 -0.001947   \n",
       "\n",
       "        7         8         9      ...          361       362       363  \\\n",
       "0 -0.002762 -0.022673  0.002803    ...     0.000165  0.002007  0.000524   \n",
       "1 -0.018984 -0.016666  0.089007    ...     0.000126 -0.004897 -0.001377   \n",
       "2 -0.002157  0.215932 -0.243564    ...     0.000546 -0.000513 -0.000047   \n",
       "3  0.004951 -0.010268 -0.015265    ...     0.000110  0.000158  0.000085   \n",
       "4  0.005382 -0.000205  0.014510    ...    -0.002816 -0.003351  0.000699   \n",
       "\n",
       "        364       365       366       367       368       369       370  \n",
       "0  0.005563  0.005353  0.003982 -0.002125  0.005118 -0.002865 -0.002994  \n",
       "1 -0.005838 -0.000881  0.003819  0.004190  0.005479 -0.001715 -0.003087  \n",
       "2  0.000207 -0.000240 -0.001010  0.001648 -0.000380  0.000367  0.001204  \n",
       "3  0.000037 -0.000088  0.000028  0.000011 -0.000030 -0.000060  0.000081  \n",
       "4  0.001242  0.000354  0.000023  0.001958 -0.001988 -0.002830 -0.000235  \n",
       "\n",
       "[5 rows x 371 columns]"
      ]
     },
     "execution_count": 21,
     "metadata": {},
     "output_type": "execute_result"
    }
   ],
   "source": [
    "train_rows, train_cols = train.shape\n",
    "pca_compressor = PCA(0.99)\n",
    "comp_train = pd.DataFrame(pca_compressor.fit_transform(train))\n",
    "comp_rows, comp_cols = comp_train.shape\n",
    "print(\"number of columns before compression:\",train_cols,\"\\n\",\"number of columns after compression:\" ,comp_cols)\n",
    "comp_train.head()"
   ]
  },
  {
   "cell_type": "markdown",
   "metadata": {},
   "source": [
    "## Training"
   ]
  },
  {
   "cell_type": "code",
   "execution_count": 22,
   "metadata": {},
   "outputs": [
    {
     "data": {
      "text/plain": [
       "640    1\n",
       "336    0\n",
       "972    0\n",
       "177    0\n",
       "328    0\n",
       "Name: Category, dtype: int64"
      ]
     },
     "execution_count": 22,
     "metadata": {},
     "output_type": "execute_result"
    }
   ],
   "source": [
    "train_ans = data['Category']\n",
    "train_ans.head()"
   ]
  },
  {
   "cell_type": "code",
   "execution_count": 24,
   "metadata": {},
   "outputs": [
    {
     "data": {
      "text/plain": [
       "LinearSVC(C=7, class_weight={0: 0.13, 1: 0.87}, dual=True, fit_intercept=True,\n",
       "     intercept_scaling=1, loss='squared_hinge', max_iter=1000,\n",
       "     multi_class='ovr', penalty='l2', random_state=None, tol=1e-07,\n",
       "     verbose=0)"
      ]
     },
     "execution_count": 24,
     "metadata": {},
     "output_type": "execute_result"
    }
   ],
   "source": [
    "#adjusting the weights\n",
    "class_weights = {0:0.13, 1:0.87}\n",
    "#fitting SVC\n",
    "svc_model = LinearSVC(C=7, dual = True, loss=\"squared_hinge\", penalty = \"l2\", tol=1e-7, class_weight=class_weights)\n",
    "svc_model.fit(comp_train, train_ans)"
   ]
  },
  {
   "cell_type": "markdown",
   "metadata": {},
   "source": [
    "## Evaluation"
   ]
  },
  {
   "cell_type": "code",
   "execution_count": 26,
   "metadata": {},
   "outputs": [
    {
     "name": "stdout",
     "output_type": "stream",
     "text": [
      "Model True Pos -  191 False Pos - 125 True Neg -  767 False neg -  1\n",
      "Model's Accuracy: 88.37638376383764 %\n",
      "Model´s Precision: 60.44303797468354 %\n",
      "Model´s Recall: 99.47916666666666 %\n",
      "Model´s F1: 75.1968503937008 %\n"
     ]
    }
   ],
   "source": [
    "TP=0\n",
    "TN=0\n",
    "FP=0\n",
    "FN=0\n",
    "\n",
    "for i in range(len(train)):\n",
    "    if svc_model.predict(comp_train.iloc[[i,]])==1 and train_ans.iloc[i]==1:\n",
    "        TP = TP + 1\n",
    "    if svc_model.predict(comp_train.iloc[[i,]])==1 and train_ans.iloc[i]==0:\n",
    "        FP = FP + 1\n",
    "    if svc_model.predict(comp_train.iloc[[i,]])==0 and train_ans.iloc[i]==0:\n",
    "        TN = TN + 1\n",
    "    if svc_model.predict(comp_train.iloc[[i,]])==0 and train_ans.iloc[i]==1:\n",
    "        FN = FN + 1\n",
    "        \n",
    "print(\"Model\", \"True Pos - \",TP, \"False Pos -\",FP,\"True Neg - \", TN, \"False neg - \",FN)\n",
    "\n",
    "model_accuracy = (TP+TN)/(len(train_ans))\n",
    "model_precision = TP/ (TP+FP)\n",
    "model_recall = TP/(TP+FN)\n",
    "model_f1 = 2*(model_precision * model_recall) / (model_precision + model_recall)\n",
    "\n",
    "print(\"Model's Accuracy:\", model_accuracy * 100, '%')\n",
    "print(\"Model´s Precision:\", model_precision *100,'%')\n",
    "print(\"Model´s Recall:\", model_recall *100,'%')\n",
    "print(\"Model´s F1:\", model_f1 *100,'%')\n"
   ]
  },
  {
   "cell_type": "markdown",
   "metadata": {},
   "source": [
    "## Prediction"
   ]
  },
  {
   "cell_type": "code",
   "execution_count": 32,
   "metadata": {},
   "outputs": [
    {
     "name": "stdin",
     "output_type": "stream",
     "text": [
      "input new text: do you have this\n"
     ]
    },
    {
     "name": "stdout",
     "output_type": "stream",
     "text": [
      "[0]\n",
      "Not to worry, we can deal with this query automatically. This is not an urgent request!\n"
     ]
    }
   ],
   "source": [
    "def query_classifier(new_input):\n",
    "  #we get the raw text into a \"list\" format with these brackets\n",
    "  new_input=[new_input]\n",
    "\n",
    "  #Now we need to format it in the same way we formated our training data. we first apply to it the hash vectorization to get it into the same format\n",
    "  new_input_vectorized = vec.fit_transform(new_input)\n",
    "  new_input_vectorized=pd.DataFrame(new_input_vectorized.toarray())\n",
    "  \n",
    "  #Now that we have the hash vectors, we can compress it using PCA (we actually need to add to the training set because PCA compresses the data in function of other data)\n",
    "  compressing_new_input= train.append(new_input_vectorized, ignore_index=True)\n",
    "  pca_input_compressor= PCA(n_components=comp_cols, svd_solver='full')\n",
    "  \n",
    "  #We compress the data...\n",
    "  compressing_new_input= pd.DataFrame(pca_input_compressor.fit_transform(compressing_new_input))\n",
    "  \n",
    "  #And now we extract the last row that corresponds to the last row which is our new formatted input that we want to predict\n",
    "  new_input_compressed = compressing_new_input.iloc[[(len(compressing_new_input.index)-1),]]\n",
    "\n",
    "  #Now we use the \".predict\" function to classify the text as \"0\" or \"1\"\n",
    "  prediction=svc_model.predict(new_input_compressed)\n",
    "  \n",
    "  if prediction==0:\n",
    "    print(prediction)\n",
    "    print(\"Not to worry, we can deal with this query automatically. This is not an urgent request!\")\n",
    "  else:\n",
    "    print(prediction)\n",
    "    print(\"Human, help please! This request is too complex and specific... Please do it manually\")\n",
    "    \n",
    "\n",
    "new_input= (input(\"input new text:\"))\n",
    "\n",
    "\n",
    "query_classifier(new_input)"
   ]
  },
  {
   "cell_type": "code",
   "execution_count": null,
   "metadata": {},
   "outputs": [],
   "source": []
  }
 ],
 "metadata": {
  "kernelspec": {
   "display_name": "Python 3",
   "language": "python",
   "name": "python3"
  },
  "language_info": {
   "codemirror_mode": {
    "name": "ipython",
    "version": 3
   },
   "file_extension": ".py",
   "mimetype": "text/x-python",
   "name": "python",
   "nbconvert_exporter": "python",
   "pygments_lexer": "ipython3",
   "version": "3.6.6"
  }
 },
 "nbformat": 4,
 "nbformat_minor": 2
}
